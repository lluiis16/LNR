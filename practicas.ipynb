{
 "cells": [
  {
   "cell_type": "code",
   "execution_count": 1,
   "id": "41c5ce25",
   "metadata": {},
   "outputs": [
    {
     "ename": "ModuleNotFoundError",
     "evalue": "No module named 'torch'",
     "output_type": "error",
     "traceback": [
      "\u001b[1;31m---------------------------------------------------------------------------\u001b[0m",
      "\u001b[1;31mModuleNotFoundError\u001b[0m                       Traceback (most recent call last)",
      "\u001b[1;32m~\\AppData\\Local\\Temp/ipykernel_14428/1124079282.py\u001b[0m in \u001b[0;36m<module>\u001b[1;34m\u001b[0m\n\u001b[0;32m      1\u001b[0m \u001b[1;32mimport\u001b[0m \u001b[0mpandas\u001b[0m \u001b[1;32mas\u001b[0m \u001b[0mpd\u001b[0m\u001b[1;33m\u001b[0m\u001b[1;33m\u001b[0m\u001b[0m\n\u001b[0;32m      2\u001b[0m \u001b[1;32mfrom\u001b[0m \u001b[0msklearn\u001b[0m\u001b[1;33m.\u001b[0m\u001b[0mmetrics\u001b[0m\u001b[1;33m.\u001b[0m\u001b[0mpairwise\u001b[0m \u001b[1;32mimport\u001b[0m \u001b[0mcosine_similarity\u001b[0m\u001b[1;33m\u001b[0m\u001b[1;33m\u001b[0m\u001b[0m\n\u001b[1;32m----> 3\u001b[1;33m \u001b[1;32mimport\u001b[0m \u001b[0mtorch\u001b[0m\u001b[1;33m\u001b[0m\u001b[1;33m\u001b[0m\u001b[0m\n\u001b[0m\u001b[0;32m      4\u001b[0m \u001b[1;32mfrom\u001b[0m \u001b[0mtransformers\u001b[0m \u001b[1;32mimport\u001b[0m \u001b[0mBertModel\u001b[0m\u001b[1;33m,\u001b[0m \u001b[0mBertTokenizer\u001b[0m\u001b[1;33m,\u001b[0m \u001b[0mRobertaModel\u001b[0m\u001b[1;33m,\u001b[0m \u001b[0mRobertaTokenizer\u001b[0m\u001b[1;33m,\u001b[0m \u001b[0mDebertaModel\u001b[0m\u001b[1;33m,\u001b[0m \u001b[0mDebertaTokenizer\u001b[0m\u001b[1;33m\u001b[0m\u001b[1;33m\u001b[0m\u001b[0m\n\u001b[0;32m      5\u001b[0m \u001b[1;33m\u001b[0m\u001b[0m\n",
      "\u001b[1;31mModuleNotFoundError\u001b[0m: No module named 'torch'"
     ]
    }
   ],
   "source": [
    "\n",
    "import pandas as pd\n",
    "from sklearn.metrics.pairwise import cosine_similarity\n",
    "import torch\n",
    "from transformers import BertModel, BertTokenizer, RobertaModel, RobertaTokenizer, DebertaModel, DebertaTokenizer\n",
    "\n",
    "# Load the corpus\n",
    "df = pd.read_csv(\"Consp-vs-Critical.csv\", delimiter=\"\\t\")\n",
    "\n",
    "# Tokenizers and pre-trained models\n",
    "bert_tokenizer = BertTokenizer.from_pretrained('bert-base-uncased')\n",
    "bert_model = BertModel.from_pretrained('bert-base-uncased')\n",
    "\n",
    "roberta_tokenizer = RobertaTokenizer.from_pretrained('roberta-base')\n",
    "roberta_model = RobertaModel.from_pretrained('roberta-base')\n",
    "\n",
    "deberta_tokenizer = DebertaTokenizer.from_pretrained('microsoft/deberta-base')\n",
    "deberta_model = DebertaModel.from_pretrained('microsoft/deberta-base')\n",
    "\n",
    "# Function to get the CLS representation of a document for a given model\n",
    "def get_cls_vector(document, tokenizer, model):\n",
    "    inputs = tokenizer(document, padding=True, truncation=True, return_tensors=\"pt\")\n",
    "    with torch.no_grad():\n",
    "        outputs = model(**inputs)\n",
    "    cls_vector = outputs[0][:, 0, :]  # Get the CLS vector\n",
    "    return cls_vector\n",
    "\n",
    "# Function to calculate cosine similarity between two vectors\n",
    "def calculate_similarity(vector1, vector2):\n",
    "    return cosine_similarity(vector1.reshape(1, -1), vector2.reshape(1, -1))[0][0]\n",
    "\n",
    "# Function to find the most similar pair for each document in a class\n",
    "def find_most_similar_pair(df, tokenizer, model, class_label):\n",
    "    embeddings = []\n",
    "    for text in df[df['label'] == class_label]['text']:\n",
    "        cls_vector = get_cls_vector(text, tokenizer, model)\n",
    "        embeddings.append(cls_vector)\n",
    "    \n",
    "    max_similarity = -1\n",
    "    most_similar_pair = ()\n",
    "    for i in range(len(embeddings)):\n",
    "        for j in range(len(embeddings)):\n",
    "            if i != j:  # Avoid comparing a document with itself\n",
    "                similarity = calculate_similarity(embeddings[i], embeddings[j])\n",
    "                if similarity > max_similarity:\n",
    "                    max_similarity = similarity\n",
    "                    most_similar_pair = (df[df['label'] == class_label].index[i],\n",
    "                                         df[df['label'] == class_label].index[j],\n",
    "                                         max_similarity)\n",
    "    return most_similar_pair\n",
    "\n",
    "# Find the most similar pair for each class ('CONSPIRACY' and 'CRITICAL') in each model\n",
    "bert_conspiracy_pair = find_most_similar_pair(df, bert_tokenizer, bert_model, 'CONSPIRACY')\n",
    "bert_critical_pair = find_most_similar_pair(df, bert_tokenizer, bert_model, 'CRITICAL')\n",
    "\n",
    "roberta_conspiracy_pair = find_most_similar_pair(df, roberta_tokenizer, roberta_model, 'CONSPIRACY')\n",
    "roberta_critical_pair = find_most_similar_pair(df, roberta_tokenizer, roberta_model, 'CRITICAL')\n",
    "\n",
    "deberta_conspiracy_pair = find_most_similar_pair(df, deberta_tokenizer, deberta_model, 'CONSPIRACY')\n",
    "deberta_critical_pair = find_most_similar_pair(df, deberta_tokenizer, deberta_model, 'CRITICAL')\n",
    "\n",
    "# Show the results\n",
    "print(\"Most similar pair for 'CONSPIRACY' using BERT:\", bert_conspiracy_pair)\n",
    "print(\"Most similar pair for 'CRITICAL' using BERT:\", bert_critical_pair)\n",
    "print(\"Most similar pair for 'CONSPIRACY' using RoBERTa:\", roberta_conspiracy_pair)\n",
    "print(\"Most similar pair for 'CRITICAL' using RoBERTa:\", roberta_critical_pair)\n",
    "print(\"Most similar pair for 'CONSPIRACY' using DeBERTa:\", deberta_conspiracy_pair)\n",
    "print(\"Most similar pair for 'CRITICAL' using DeBERTa:\", deberta_critical_pair)"
   ]
  },
  {
   "cell_type": "code",
   "execution_count": null,
   "id": "bb3ad11c",
   "metadata": {},
   "outputs": [],
   "source": []
  },
  {
   "cell_type": "code",
   "execution_count": null,
   "id": "1df0d01b",
   "metadata": {},
   "outputs": [],
   "source": []
  }
 ],
 "metadata": {
  "kernelspec": {
   "display_name": "Python 3 (ipykernel)",
   "language": "python",
   "name": "python3"
  },
  "language_info": {
   "codemirror_mode": {
    "name": "ipython",
    "version": 3
   },
   "file_extension": ".py",
   "mimetype": "text/x-python",
   "name": "python",
   "nbconvert_exporter": "python",
   "pygments_lexer": "ipython3",
   "version": "3.9.7"
  }
 },
 "nbformat": 4,
 "nbformat_minor": 5
}
