{
 "cells": [
  {
   "cell_type": "markdown",
   "id": "b824cd76",
   "metadata": {},
   "source": [
    "# Practical Work 3\n"
   ]
  },
  {
   "cell_type": "markdown",
   "id": "cc89bd1e",
   "metadata": {},
   "source": [
    "## Session 2: Validation of the results"
   ]
  },
  {
   "cell_type": "markdown",
   "id": "ca787a12",
   "metadata": {},
   "source": [
    "### Lluis Pellicer Juan y Jorge De la Cruz Martínez"
   ]
  },
  {
   "cell_type": "code",
   "execution_count": 1,
   "id": "443157b9",
   "metadata": {},
   "outputs": [
    {
     "ename": "ModuleNotFoundError",
     "evalue": "No module named 'torch'",
     "output_type": "error",
     "traceback": [
      "\u001b[1;31m---------------------------------------------------------------------------\u001b[0m",
      "\u001b[1;31mModuleNotFoundError\u001b[0m                       Traceback (most recent call last)",
      "\u001b[1;32m~\\AppData\\Local\\Temp/ipykernel_7104/1548876412.py\u001b[0m in \u001b[0;36m<module>\u001b[1;34m\u001b[0m\n\u001b[0;32m      3\u001b[0m \u001b[1;33m\u001b[0m\u001b[0m\n\u001b[0;32m      4\u001b[0m \u001b[1;33m\u001b[0m\u001b[0m\n\u001b[1;32m----> 5\u001b[1;33m \u001b[1;32mimport\u001b[0m \u001b[0mtorch\u001b[0m\u001b[1;33m\u001b[0m\u001b[1;33m\u001b[0m\u001b[0m\n\u001b[0m\u001b[0;32m      6\u001b[0m \u001b[1;32mimport\u001b[0m \u001b[0mnumpy\u001b[0m \u001b[1;32mas\u001b[0m \u001b[0mnp\u001b[0m\u001b[1;33m\u001b[0m\u001b[1;33m\u001b[0m\u001b[0m\n\u001b[0;32m      7\u001b[0m \u001b[1;32mimport\u001b[0m \u001b[0mpandas\u001b[0m \u001b[1;32mas\u001b[0m \u001b[0mpd\u001b[0m\u001b[1;33m\u001b[0m\u001b[1;33m\u001b[0m\u001b[0m\n",
      "\u001b[1;31mModuleNotFoundError\u001b[0m: No module named 'torch'"
     ]
    }
   ],
   "source": [
    "import sys\n",
    "sys.path.append(r'C:/Users/JUAN LENOVO/Desktop/3 GCD/2º cuatrimestre/LNR/PRÁCTICA 9/TransformersTuning')\n",
    "\n",
    "\n",
    "import torch\n",
    "import numpy as np\n",
    "import pandas as pd\n",
    "from sklearn.model_selection import StratifiedKFold\n",
    "from transformers import BertForSequenceClassification, Trainer, TrainingArguments\n",
    "from datareader import PAN24Reader\n",
    "from fine_tuning import training as fine_tuning_training, validate as fine_tuning_validate\n",
    "from fine_tuning_PEFT import training as fine_tuning_PEFT_training, validate as fine_tuning_PEFT_validate\n",
    "from mydataset import MyDataset\n",
    "from utils import set_seed\n",
    "\n",
    "def train_and_evaluate(model_name, dataset, training_args, compute_metrics):\n",
    "    # Add code here to load dataset and initialize tokenizer\n",
    "    myReader = PAN24Reader()\n",
    "    df = myReader.load_dataset_classification(dataset, string_labels=False, positive_class='conspiracy')\n",
    "    X_train, X_val = train_test_split(df, test_size=0.1, random_state=SEED, shuffle=True, stratify=df['label'])\n",
    "    tokenizer = AutoTokenizer.from_pretrained(model_name)\n",
    "    model = AutoModelForSequenceClassification.from_pretrained(model_name, num_labels=2)\n",
    "    \n",
    "    # Fine-tuning\n",
    "    # Fine-tuning\n",
    "    model = fine_tuning_training(model, X_train, X_val, training_args.learning_rate, \n",
    "                                  training_args.optimizer_name, training_args.schedule, training_args.epochs,\n",
    "                                  tokenizer, batch_size=training_args.batch_size, padding=\"max_length\")\n",
    "\n",
    "\n",
    "\n",
    "    # Evaluation\n",
    "    results = fine_tuning_validate(model, dataset, tokenizer, padding=\"max_length\", max_length=512)\n",
    "    print(\"Results:\", results)\n",
    "    return results\n",
    "\n",
    "\n",
    "\n",
    "dataset_en = \"C:/Users/JUAN LENOVO/Desktop/3 GCD/2º cuatrimestre/LNR/PRÁCTICA 9/TransformersTuning/dataset_oppositional/training/dataset_oppositional/dataset_en_train.json\"\n",
    "dataset_es = \"C:/Users/JUAN LENOVO/Desktop/3 GCD/2º cuatrimestre/LNR/PRÁCTICA 9/TransformersTuning/dataset_oppositional/training/dataset_oppositional/dataset_es_train.json\"\n",
    "\n",
    "\n",
    "# Define training arguments\n",
    "training_args = TrainingArguments(\n",
    "    learning_rate=1e-5,\n",
    "    optimizer_name=\"adam\",\n",
    "    schedule=\"linear\",\n",
    "    epochs=5,\n",
    "    batch_size=32,\n",
    "    patience=3,\n",
    "    measure=\"accuracy\",\n",
    "    out=\"./out\"\n",
    ")\n",
    "\n",
    "# Define compute_metrics function if needed\n",
    "\n",
    "# Set seed for reproducibility\n",
    "set_seed(1234)\n",
    "\n",
    "# Train and evaluate model on English dataset\n",
    "results_en = train_and_evaluate(model_name, dataset_en, training_args, compute_metrics)\n",
    "print(\"Results in English:\", results_en)\n",
    "\n",
    "# Train and evaluate model on Spanish dataset\n",
    "results_es = train_and_evaluate(model_name, dataset_es, training_args, compute_metrics)\n",
    "print(\"Results in Spanish:\", results_es)\n",
    "\n",
    "# Cross-validation for English dataset\n",
    "avg_mcc_en, avg_f1_en = cross_validation(dataset_en, model_name, training_args, compute_metrics)\n",
    "print(\"Average MCC for English (cross-validation):\", avg_mcc_en)\n",
    "print(\"Average F1-score for English (cross-validation):\", avg_f1_en)\n",
    "\n",
    "# Cross-validation for Spanish dataset\n",
    "avg_mcc_es, avg_f1_es = cross_validation(dataset_es, model_name, training_args, compute_metrics)\n",
    "print(\"Average MCC for Spanish (cross-validation):\", avg_mcc_es)\n",
    "print(\"Average F1-score for Spanish (cross-validation):\", avg_f1_es)\n"
   ]
  },
  {
   "cell_type": "code",
   "execution_count": null,
   "id": "fd047910",
   "metadata": {},
   "outputs": [],
   "source": []
  }
 ],
 "metadata": {
  "kernelspec": {
   "display_name": "Python 3 (ipykernel)",
   "language": "python",
   "name": "python3"
  },
  "language_info": {
   "codemirror_mode": {
    "name": "ipython",
    "version": 3
   },
   "file_extension": ".py",
   "mimetype": "text/x-python",
   "name": "python",
   "nbconvert_exporter": "python",
   "pygments_lexer": "ipython3",
   "version": "3.9.7"
  }
 },
 "nbformat": 4,
 "nbformat_minor": 5
}
