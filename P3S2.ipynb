{
 "cells": [
  {
   "cell_type": "markdown",
   "id": "f365ae4f",
   "metadata": {},
   "source": [
    "## Practical Work 3\n",
    "### Session 2: Validation of the results\n",
    "#### Lluis Pellicer Juan y Jorge De la Cruz Martínez"
   ]
  },
  {
   "cell_type": "code",
   "execution_count": 1,
   "id": "059f9896",
   "metadata": {},
   "outputs": [],
   "source": [
    "import json\n",
    "from nltk.corpus import stopwords\n",
    "from nltk.tokenize import word_tokenize \n",
    "import os\n",
    "from sklearn.tree import DecisionTreeClassifier\n",
    "from sklearn.svm import SVC\n",
    "from sklearn.linear_model import LogisticRegression\n",
    "from sklearn.metrics import matthews_corrcoef\n",
    "from sklearn.model_selection import train_test_split\n",
    "import numpy as np\n",
    "from sklearn.feature_extraction.text import CountVectorizer\n",
    "from sklearn.ensemble import StackingClassifier\n",
    "from sklearn.model_selection import cross_val_predict, KFold, StratifiedKFold\n",
    "from sklearn.metrics import f1_score"
   ]
  },
  {
   "cell_type": "code",
   "execution_count": 2,
   "id": "7c41561d",
   "metadata": {},
   "outputs": [],
   "source": [
    "# Cargar datos\n",
    "carpeta_datos = \"C:/Users/JUAN LENOVO/Desktop/3 GCD/2º cuatrimestre/LNR/PRÁCRICA 7/Dataset-Oppositional\"\n",
    "\n",
    "# Rutas de archivos\n",
    "ruta_entrenamiento_en = os.path.join(carpeta_datos, \"training\", \"dataset_oppositional\", \"dataset_en_train.json\")\n",
    "ruta_entrenamiento_es = os.path.join(carpeta_datos, \"training\", \"dataset_oppositional\", \"dataset_es_train.json\")\n",
    "ruta_test_en = os.path.join(carpeta_datos, \"test\", \"dataset_oppositional_test_nolabels\", \"dataset_en_official_test_nolabels.json\")\n",
    "ruta_test_es = os.path.join(carpeta_datos, \"test\", \"dataset_oppositional_test_nolabels\", \"dataset_es_official_test_nolabels.json\")"
   ]
  },
  {
   "cell_type": "code",
   "execution_count": 3,
   "id": "73fedf29",
   "metadata": {},
   "outputs": [],
   "source": [
    "# Función para cargar datos de un archivo JSON\n",
    "def cargar_datos(ruta):\n",
    "    with open(ruta, \"r\", encoding=\"utf-8\") as archivo:\n",
    "        datos = json.load(archivo)\n",
    "    return datos\n",
    "\n",
    "# Cargar datos\n",
    "datos_entrenamiento_en = cargar_datos(ruta_entrenamiento_en)\n",
    "datos_entrenamiento_es = cargar_datos(ruta_entrenamiento_es)\n",
    "datos_test_en = cargar_datos(ruta_test_en)\n",
    "datos_test_es = cargar_datos(ruta_test_es)\n"
   ]
  },
  {
   "cell_type": "code",
   "execution_count": 4,
   "id": "4a5bab94",
   "metadata": {},
   "outputs": [],
   "source": [
    "# Extraer textos y etiquetas\n",
    "texts_es_train = [dato[\"text\"] for dato in datos_entrenamiento_es]\n",
    "labels_es_train = [dato[\"category\"] for dato in datos_entrenamiento_es]\n",
    "\n",
    "texts_en_train = [dato[\"text\"] for dato in datos_entrenamiento_en]\n",
    "labels_en_train = [dato[\"category\"] for dato in datos_entrenamiento_en]\n",
    "\n",
    "texts_es_test = [dato[\"text\"] for dato in datos_test_es]\n",
    "texts_en_test = [dato[\"text\"] for dato in datos_test_en]"
   ]
  },
  {
   "cell_type": "code",
   "execution_count": 5,
   "id": "c03fdfb4",
   "metadata": {},
   "outputs": [],
   "source": [
    "stop_words = set(stopwords.words('english'))\n",
    "\n",
    "def preprocess_text(text):\n",
    "    text = text.lower()\n",
    "    tokens = word_tokenize(text)\n",
    "    tokens = [word for word in tokens if word not in stop_words]\n",
    "    preprocessed_text = ' '.join(tokens)\n",
    "    return preprocessed_text\n",
    "\n",
    "# Preprocesamiento para inglés\n",
    "preprocessed_texts_en_train = [preprocess_text(text) for text in texts_en_train]\n",
    "preprocessed_texts_en_test = [preprocess_text(text) for text in texts_en_test]\n",
    "\n",
    "vectorizer_en = CountVectorizer(analyzer='word', max_features=4000, lowercase=True)\n",
    "X_en_train = vectorizer_en.fit_transform(preprocessed_texts_en_train)\n",
    "X_en_test = vectorizer_en.transform(preprocessed_texts_en_test)\n",
    "\n",
    "X_en_train = X_en_train.toarray()\n",
    "X_en_test = X_en_test.toarray()\n",
    "\n",
    "Y_en_train = np.array(labels_en_train)\n",
    "\n",
    "# Preprocesamiento para español\n",
    "preprocessed_texts_es_train = [preprocess_text(text) for text in texts_es_train]\n",
    "preprocessed_texts_es_test = [preprocess_text(text) for text in texts_es_test]\n",
    "\n",
    "vectorizer_es = CountVectorizer(analyzer='word', max_features=4000, lowercase=True)\n",
    "X_es_train = vectorizer_es.fit_transform(preprocessed_texts_es_train)\n",
    "X_es_test = vectorizer_es.transform(preprocessed_texts_es_test)\n",
    "\n",
    "X_es_train = X_es_train.toarray()\n",
    "X_es_test = X_es_test.toarray()\n",
    "\n",
    "Y_es_train = np.array(labels_es_train)"
   ]
  },
  {
   "cell_type": "markdown",
   "id": "6264b5a2",
   "metadata": {},
   "source": [
    "**Best model for english texts -> Stacking**"
   ]
  },
  {
   "cell_type": "code",
   "execution_count": 6,
   "id": "4b3f4979",
   "metadata": {},
   "outputs": [],
   "source": [
    "# Mejor modelo para textos en inglés -> Stacking\n",
    "X_train_en, X_test_en, y_train_en, y_test_en = train_test_split(X_en_train, Y_en_train, test_size=0.1, random_state=1234)\n",
    "\n",
    "svc_params_en = {'C': 0.1, 'kernel': 'linear'}\n",
    "lr_params_en = {'C': 0.01, 'penalty': 'l1', 'solver': 'liblinear'}\n",
    "dt_params_en = {'criterion': 'gini', 'max_depth': 30, 'min_samples_leaf': 1, 'min_samples_split': 2, 'splitter': 'best'}\n",
    "\n",
    "base_models_en = [('svc', SVC(**svc_params_en)), ('lr', LogisticRegression(**lr_params_en)), ('dt', DecisionTreeClassifier(**dt_params_en))]\n",
    "\n",
    "meta_model_en = LogisticRegression()\n",
    "ensemble_en = StackingClassifier(estimators=base_models_en, final_estimator=meta_model_en)\n"
   ]
  },
  {
   "cell_type": "markdown",
   "id": "687701e4",
   "metadata": {},
   "source": [
    "**Best model for spanish texts -> Logistic regression**"
   ]
  },
  {
   "cell_type": "code",
   "execution_count": 7,
   "id": "50807201",
   "metadata": {},
   "outputs": [],
   "source": [
    "# Mejor modelo para textos en español -> Regresión Logística\n",
    "X_train_es, X_test_es, y_train_es, y_test_es = train_test_split(X_es_train, Y_es_train, test_size=0.1, random_state=1234)\n",
    "\n",
    "mejores_parametros_es = {'penalty': 'l2', 'C': 10, 'solver': 'lbfgs'}\n",
    "clf_es = LogisticRegression(**mejores_parametros_es)"
   ]
  },
  {
   "cell_type": "markdown",
   "id": "36e25023",
   "metadata": {},
   "source": [
    "## Validation of the models"
   ]
  },
  {
   "cell_type": "markdown",
   "id": "703dde1c",
   "metadata": {},
   "source": [
    "**K-fold validation**"
   ]
  },
  {
   "cell_type": "code",
   "execution_count": 8,
   "id": "9e7db979",
   "metadata": {},
   "outputs": [
    {
     "name": "stdout",
     "output_type": "stream",
     "text": [
      "MCC promedio para inglés (validación 10-fold): 0.6875396667673901\n",
      "F1-score promedio para inglés (validación 10-fold): 0.8589294100616099\n"
     ]
    },
    {
     "name": "stderr",
     "output_type": "stream",
     "text": [
      "C:\\Users\\JUAN LENOVO\\anaconda3\\lib\\site-packages\\sklearn\\linear_model\\_logistic.py:458: ConvergenceWarning: lbfgs failed to converge (status=1):\n",
      "STOP: TOTAL NO. of ITERATIONS REACHED LIMIT.\n",
      "\n",
      "Increase the number of iterations (max_iter) or scale the data as shown in:\n",
      "    https://scikit-learn.org/stable/modules/preprocessing.html\n",
      "Please also refer to the documentation for alternative solver options:\n",
      "    https://scikit-learn.org/stable/modules/linear_model.html#logistic-regression\n",
      "  n_iter_i = _check_optimize_result(\n",
      "C:\\Users\\JUAN LENOVO\\anaconda3\\lib\\site-packages\\sklearn\\linear_model\\_logistic.py:458: ConvergenceWarning: lbfgs failed to converge (status=1):\n",
      "STOP: TOTAL NO. of ITERATIONS REACHED LIMIT.\n",
      "\n",
      "Increase the number of iterations (max_iter) or scale the data as shown in:\n",
      "    https://scikit-learn.org/stable/modules/preprocessing.html\n",
      "Please also refer to the documentation for alternative solver options:\n",
      "    https://scikit-learn.org/stable/modules/linear_model.html#logistic-regression\n",
      "  n_iter_i = _check_optimize_result(\n",
      "C:\\Users\\JUAN LENOVO\\anaconda3\\lib\\site-packages\\sklearn\\linear_model\\_logistic.py:458: ConvergenceWarning: lbfgs failed to converge (status=1):\n",
      "STOP: TOTAL NO. of ITERATIONS REACHED LIMIT.\n",
      "\n",
      "Increase the number of iterations (max_iter) or scale the data as shown in:\n",
      "    https://scikit-learn.org/stable/modules/preprocessing.html\n",
      "Please also refer to the documentation for alternative solver options:\n",
      "    https://scikit-learn.org/stable/modules/linear_model.html#logistic-regression\n",
      "  n_iter_i = _check_optimize_result(\n",
      "C:\\Users\\JUAN LENOVO\\anaconda3\\lib\\site-packages\\sklearn\\linear_model\\_logistic.py:458: ConvergenceWarning: lbfgs failed to converge (status=1):\n",
      "STOP: TOTAL NO. of ITERATIONS REACHED LIMIT.\n",
      "\n",
      "Increase the number of iterations (max_iter) or scale the data as shown in:\n",
      "    https://scikit-learn.org/stable/modules/preprocessing.html\n",
      "Please also refer to the documentation for alternative solver options:\n",
      "    https://scikit-learn.org/stable/modules/linear_model.html#logistic-regression\n",
      "  n_iter_i = _check_optimize_result(\n",
      "C:\\Users\\JUAN LENOVO\\anaconda3\\lib\\site-packages\\sklearn\\linear_model\\_logistic.py:458: ConvergenceWarning: lbfgs failed to converge (status=1):\n",
      "STOP: TOTAL NO. of ITERATIONS REACHED LIMIT.\n",
      "\n",
      "Increase the number of iterations (max_iter) or scale the data as shown in:\n",
      "    https://scikit-learn.org/stable/modules/preprocessing.html\n",
      "Please also refer to the documentation for alternative solver options:\n",
      "    https://scikit-learn.org/stable/modules/linear_model.html#logistic-regression\n",
      "  n_iter_i = _check_optimize_result(\n",
      "C:\\Users\\JUAN LENOVO\\anaconda3\\lib\\site-packages\\sklearn\\linear_model\\_logistic.py:458: ConvergenceWarning: lbfgs failed to converge (status=1):\n",
      "STOP: TOTAL NO. of ITERATIONS REACHED LIMIT.\n",
      "\n",
      "Increase the number of iterations (max_iter) or scale the data as shown in:\n",
      "    https://scikit-learn.org/stable/modules/preprocessing.html\n",
      "Please also refer to the documentation for alternative solver options:\n",
      "    https://scikit-learn.org/stable/modules/linear_model.html#logistic-regression\n",
      "  n_iter_i = _check_optimize_result(\n",
      "C:\\Users\\JUAN LENOVO\\anaconda3\\lib\\site-packages\\sklearn\\linear_model\\_logistic.py:458: ConvergenceWarning: lbfgs failed to converge (status=1):\n",
      "STOP: TOTAL NO. of ITERATIONS REACHED LIMIT.\n",
      "\n",
      "Increase the number of iterations (max_iter) or scale the data as shown in:\n",
      "    https://scikit-learn.org/stable/modules/preprocessing.html\n",
      "Please also refer to the documentation for alternative solver options:\n",
      "    https://scikit-learn.org/stable/modules/linear_model.html#logistic-regression\n",
      "  n_iter_i = _check_optimize_result(\n",
      "C:\\Users\\JUAN LENOVO\\anaconda3\\lib\\site-packages\\sklearn\\linear_model\\_logistic.py:458: ConvergenceWarning: lbfgs failed to converge (status=1):\n",
      "STOP: TOTAL NO. of ITERATIONS REACHED LIMIT.\n",
      "\n",
      "Increase the number of iterations (max_iter) or scale the data as shown in:\n",
      "    https://scikit-learn.org/stable/modules/preprocessing.html\n",
      "Please also refer to the documentation for alternative solver options:\n",
      "    https://scikit-learn.org/stable/modules/linear_model.html#logistic-regression\n",
      "  n_iter_i = _check_optimize_result(\n",
      "C:\\Users\\JUAN LENOVO\\anaconda3\\lib\\site-packages\\sklearn\\linear_model\\_logistic.py:458: ConvergenceWarning: lbfgs failed to converge (status=1):\n",
      "STOP: TOTAL NO. of ITERATIONS REACHED LIMIT.\n",
      "\n",
      "Increase the number of iterations (max_iter) or scale the data as shown in:\n",
      "    https://scikit-learn.org/stable/modules/preprocessing.html\n",
      "Please also refer to the documentation for alternative solver options:\n",
      "    https://scikit-learn.org/stable/modules/linear_model.html#logistic-regression\n",
      "  n_iter_i = _check_optimize_result(\n"
     ]
    },
    {
     "name": "stdout",
     "output_type": "stream",
     "text": [
      "MCC promedio para español (validación 10-fold): 0.5796499673844874\n",
      "F1-score promedio para español (validación 10-fold): 0.8060910345686896\n"
     ]
    },
    {
     "name": "stderr",
     "output_type": "stream",
     "text": [
      "C:\\Users\\JUAN LENOVO\\anaconda3\\lib\\site-packages\\sklearn\\linear_model\\_logistic.py:458: ConvergenceWarning: lbfgs failed to converge (status=1):\n",
      "STOP: TOTAL NO. of ITERATIONS REACHED LIMIT.\n",
      "\n",
      "Increase the number of iterations (max_iter) or scale the data as shown in:\n",
      "    https://scikit-learn.org/stable/modules/preprocessing.html\n",
      "Please also refer to the documentation for alternative solver options:\n",
      "    https://scikit-learn.org/stable/modules/linear_model.html#logistic-regression\n",
      "  n_iter_i = _check_optimize_result(\n"
     ]
    }
   ],
   "source": [
    "from sklearn.model_selection import cross_val_predict, KFold\n",
    "from sklearn.metrics import matthews_corrcoef, f1_score\n",
    "import numpy as np\n",
    "\n",
    "def evaluate_with_kfold(model, X, y, n_folds=10):\n",
    "    kf = KFold(n_splits=n_folds)\n",
    "    mcc_scores = []\n",
    "    f1_scores = []\n",
    "    \n",
    "    for train_index, test_index in kf.split(X):\n",
    "        X_train, X_test = X[train_index], X[test_index]\n",
    "        y_train, y_test = y[train_index], y[test_index]\n",
    "        \n",
    "        model.fit(X_train, y_train)\n",
    "        y_pred = model.predict(X_test)\n",
    "        \n",
    "        mcc = matthews_corrcoef(y_test, y_pred)\n",
    "        f1 = f1_score(y_test, y_pred, average='weighted')\n",
    "        \n",
    "        mcc_scores.append(mcc)\n",
    "        f1_scores.append(f1)\n",
    "    \n",
    "    avg_mcc = np.mean(mcc_scores)\n",
    "    avg_f1 = np.mean(f1_scores)\n",
    "    \n",
    "    return avg_mcc, avg_f1\n",
    "\n",
    "avg_mcc_en, avg_f1_en = evaluate_with_kfold(ensemble_en, X_en_train, Y_en_train)\n",
    "print(\"MCC promedio para inglés (validación 10-fold):\", avg_mcc_en)\n",
    "print(\"F1-score promedio para inglés (validación 10-fold):\", avg_f1_en)\n",
    "\n",
    "avg_mcc_es, avg_f1_es = evaluate_with_kfold(clf_es, X_es_train, Y_es_train)\n",
    "print(\"MCC promedio para español (validación 10-fold):\", avg_mcc_es)\n",
    "print(\"F1-score promedio para español (validación 10-fold):\", avg_f1_es)"
   ]
  },
  {
   "cell_type": "markdown",
   "id": "ef8b5909",
   "metadata": {},
   "source": [
    "**Stratified K-Fold Validation**"
   ]
  },
  {
   "cell_type": "code",
   "execution_count": 9,
   "id": "b977d538",
   "metadata": {},
   "outputs": [
    {
     "name": "stdout",
     "output_type": "stream",
     "text": [
      "MCC promedio para inglés (validación estratificada 10-fold): 0.6888953371936559\n",
      "F1-score promedio para inglés (validación estratificada 10-fold): 0.8594829661249328\n"
     ]
    },
    {
     "name": "stderr",
     "output_type": "stream",
     "text": [
      "C:\\Users\\JUAN LENOVO\\anaconda3\\lib\\site-packages\\sklearn\\linear_model\\_logistic.py:458: ConvergenceWarning: lbfgs failed to converge (status=1):\n",
      "STOP: TOTAL NO. of ITERATIONS REACHED LIMIT.\n",
      "\n",
      "Increase the number of iterations (max_iter) or scale the data as shown in:\n",
      "    https://scikit-learn.org/stable/modules/preprocessing.html\n",
      "Please also refer to the documentation for alternative solver options:\n",
      "    https://scikit-learn.org/stable/modules/linear_model.html#logistic-regression\n",
      "  n_iter_i = _check_optimize_result(\n",
      "C:\\Users\\JUAN LENOVO\\anaconda3\\lib\\site-packages\\sklearn\\linear_model\\_logistic.py:458: ConvergenceWarning: lbfgs failed to converge (status=1):\n",
      "STOP: TOTAL NO. of ITERATIONS REACHED LIMIT.\n",
      "\n",
      "Increase the number of iterations (max_iter) or scale the data as shown in:\n",
      "    https://scikit-learn.org/stable/modules/preprocessing.html\n",
      "Please also refer to the documentation for alternative solver options:\n",
      "    https://scikit-learn.org/stable/modules/linear_model.html#logistic-regression\n",
      "  n_iter_i = _check_optimize_result(\n",
      "C:\\Users\\JUAN LENOVO\\anaconda3\\lib\\site-packages\\sklearn\\linear_model\\_logistic.py:458: ConvergenceWarning: lbfgs failed to converge (status=1):\n",
      "STOP: TOTAL NO. of ITERATIONS REACHED LIMIT.\n",
      "\n",
      "Increase the number of iterations (max_iter) or scale the data as shown in:\n",
      "    https://scikit-learn.org/stable/modules/preprocessing.html\n",
      "Please also refer to the documentation for alternative solver options:\n",
      "    https://scikit-learn.org/stable/modules/linear_model.html#logistic-regression\n",
      "  n_iter_i = _check_optimize_result(\n",
      "C:\\Users\\JUAN LENOVO\\anaconda3\\lib\\site-packages\\sklearn\\linear_model\\_logistic.py:458: ConvergenceWarning: lbfgs failed to converge (status=1):\n",
      "STOP: TOTAL NO. of ITERATIONS REACHED LIMIT.\n",
      "\n",
      "Increase the number of iterations (max_iter) or scale the data as shown in:\n",
      "    https://scikit-learn.org/stable/modules/preprocessing.html\n",
      "Please also refer to the documentation for alternative solver options:\n",
      "    https://scikit-learn.org/stable/modules/linear_model.html#logistic-regression\n",
      "  n_iter_i = _check_optimize_result(\n",
      "C:\\Users\\JUAN LENOVO\\anaconda3\\lib\\site-packages\\sklearn\\linear_model\\_logistic.py:458: ConvergenceWarning: lbfgs failed to converge (status=1):\n",
      "STOP: TOTAL NO. of ITERATIONS REACHED LIMIT.\n",
      "\n",
      "Increase the number of iterations (max_iter) or scale the data as shown in:\n",
      "    https://scikit-learn.org/stable/modules/preprocessing.html\n",
      "Please also refer to the documentation for alternative solver options:\n",
      "    https://scikit-learn.org/stable/modules/linear_model.html#logistic-regression\n",
      "  n_iter_i = _check_optimize_result(\n",
      "C:\\Users\\JUAN LENOVO\\anaconda3\\lib\\site-packages\\sklearn\\linear_model\\_logistic.py:458: ConvergenceWarning: lbfgs failed to converge (status=1):\n",
      "STOP: TOTAL NO. of ITERATIONS REACHED LIMIT.\n",
      "\n",
      "Increase the number of iterations (max_iter) or scale the data as shown in:\n",
      "    https://scikit-learn.org/stable/modules/preprocessing.html\n",
      "Please also refer to the documentation for alternative solver options:\n",
      "    https://scikit-learn.org/stable/modules/linear_model.html#logistic-regression\n",
      "  n_iter_i = _check_optimize_result(\n",
      "C:\\Users\\JUAN LENOVO\\anaconda3\\lib\\site-packages\\sklearn\\linear_model\\_logistic.py:458: ConvergenceWarning: lbfgs failed to converge (status=1):\n",
      "STOP: TOTAL NO. of ITERATIONS REACHED LIMIT.\n",
      "\n",
      "Increase the number of iterations (max_iter) or scale the data as shown in:\n",
      "    https://scikit-learn.org/stable/modules/preprocessing.html\n",
      "Please also refer to the documentation for alternative solver options:\n",
      "    https://scikit-learn.org/stable/modules/linear_model.html#logistic-regression\n",
      "  n_iter_i = _check_optimize_result(\n",
      "C:\\Users\\JUAN LENOVO\\anaconda3\\lib\\site-packages\\sklearn\\linear_model\\_logistic.py:458: ConvergenceWarning: lbfgs failed to converge (status=1):\n",
      "STOP: TOTAL NO. of ITERATIONS REACHED LIMIT.\n",
      "\n",
      "Increase the number of iterations (max_iter) or scale the data as shown in:\n",
      "    https://scikit-learn.org/stable/modules/preprocessing.html\n",
      "Please also refer to the documentation for alternative solver options:\n",
      "    https://scikit-learn.org/stable/modules/linear_model.html#logistic-regression\n",
      "  n_iter_i = _check_optimize_result(\n",
      "C:\\Users\\JUAN LENOVO\\anaconda3\\lib\\site-packages\\sklearn\\linear_model\\_logistic.py:458: ConvergenceWarning: lbfgs failed to converge (status=1):\n",
      "STOP: TOTAL NO. of ITERATIONS REACHED LIMIT.\n",
      "\n",
      "Increase the number of iterations (max_iter) or scale the data as shown in:\n",
      "    https://scikit-learn.org/stable/modules/preprocessing.html\n",
      "Please also refer to the documentation for alternative solver options:\n",
      "    https://scikit-learn.org/stable/modules/linear_model.html#logistic-regression\n",
      "  n_iter_i = _check_optimize_result(\n"
     ]
    },
    {
     "name": "stdout",
     "output_type": "stream",
     "text": [
      "MCC promedio para español (validación estratificada 10-fold): 0.565969129186883\n",
      "F1-score promedio para español (validación estratificada 10-fold): 0.7992309750079963\n"
     ]
    },
    {
     "name": "stderr",
     "output_type": "stream",
     "text": [
      "C:\\Users\\JUAN LENOVO\\anaconda3\\lib\\site-packages\\sklearn\\linear_model\\_logistic.py:458: ConvergenceWarning: lbfgs failed to converge (status=1):\n",
      "STOP: TOTAL NO. of ITERATIONS REACHED LIMIT.\n",
      "\n",
      "Increase the number of iterations (max_iter) or scale the data as shown in:\n",
      "    https://scikit-learn.org/stable/modules/preprocessing.html\n",
      "Please also refer to the documentation for alternative solver options:\n",
      "    https://scikit-learn.org/stable/modules/linear_model.html#logistic-regression\n",
      "  n_iter_i = _check_optimize_result(\n"
     ]
    }
   ],
   "source": [
    "from sklearn.model_selection import StratifiedKFold\n",
    "import numpy as np\n",
    "\n",
    "def evaluate_with_stratified_kfold(model, X, y, n_folds=10):\n",
    "    skf = StratifiedKFold(n_splits=n_folds)\n",
    "    mcc_scores = []\n",
    "    f1_scores = []\n",
    "    \n",
    "    for train_index, test_index in skf.split(X, y):\n",
    "        X_train, X_test = X[train_index], X[test_index]\n",
    "        y_train, y_test = y[train_index], y[test_index]\n",
    "        \n",
    "        model.fit(X_train, y_train)\n",
    "        y_pred = model.predict(X_test)\n",
    "        \n",
    "        mcc = matthews_corrcoef(y_test, y_pred)\n",
    "        f1 = f1_score(y_test, y_pred, average='weighted')\n",
    "        \n",
    "        mcc_scores.append(mcc)\n",
    "        f1_scores.append(f1)\n",
    "    \n",
    "    avg_mcc = np.mean(mcc_scores)\n",
    "    avg_f1 = np.mean(f1_scores)\n",
    "    \n",
    "    return avg_mcc, avg_f1\n",
    "\n",
    "avg_mcc_en_stratified, avg_f1_en_stratified = evaluate_with_stratified_kfold(ensemble_en, X_en_train, Y_en_train)\n",
    "print(\"MCC promedio para inglés (validación estratificada 10-fold):\", avg_mcc_en_stratified)\n",
    "print(\"F1-score promedio para inglés (validación estratificada 10-fold):\", avg_f1_en_stratified)\n",
    "\n",
    "avg_mcc_es_stratified, avg_f1_es_stratified = evaluate_with_stratified_kfold(clf_es, X_es_train, Y_es_train)\n",
    "print(\"MCC promedio para español (validación estratificada 10-fold):\", avg_mcc_es_stratified)\n",
    "print(\"F1-score promedio para español (validación estratificada 10-fold):\", avg_f1_es_stratified)"
   ]
  },
  {
   "cell_type": "code",
   "execution_count": null,
   "id": "4e9ce0a5",
   "metadata": {},
   "outputs": [],
   "source": []
  }
 ],
 "metadata": {
  "kernelspec": {
   "display_name": "Python 3 (ipykernel)",
   "language": "python",
   "name": "python3"
  },
  "language_info": {
   "codemirror_mode": {
    "name": "ipython",
    "version": 3
   },
   "file_extension": ".py",
   "mimetype": "text/x-python",
   "name": "python",
   "nbconvert_exporter": "python",
   "pygments_lexer": "ipython3",
   "version": "3.9.7"
  }
 },
 "nbformat": 4,
 "nbformat_minor": 5
}
